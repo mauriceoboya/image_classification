{
 "cells": [
  {
   "cell_type": "code",
   "execution_count": 76,
   "id": "89d3973a",
   "metadata": {},
   "outputs": [],
   "source": [
    "import cv2 as cv\n",
    "import os\n",
    "import matplotlib.pyplot as plt\n",
    "from PIL import Image"
   ]
  },
  {
   "cell_type": "code",
   "execution_count": 116,
   "id": "a290b3b0",
   "metadata": {},
   "outputs": [
    {
     "name": "stdout",
     "output_type": "stream",
     "text": [
      "Class /home/fibonacci/Documents/image_classification/car contains 968 images of shape(100, 100)\n",
      "Class /home/fibonacci/Documents/image_classification/fruit contains 1000 images of shape(100, 100)\n",
      "Class /home/fibonacci/Documents/image_classification/person contains 986 images of shape(256, 256)\n",
      "Class /home/fibonacci/Documents/image_classification/airplane contains 727 images of shape(339, 91)\n",
      "Class /home/fibonacci/Documents/image_classification/dog contains 702 images of shape(283, 438)\n",
      "Class /home/fibonacci/Documents/image_classification/flower contains 843 images of shape(216, 151)\n",
      "Class /home/fibonacci/Documents/image_classification/motorbike contains 788 images of shape(204, 124)\n",
      "Class /home/fibonacci/Documents/image_classification/cat contains 885 images of shape(471, 423)\n"
     ]
    }
   ],
   "source": [
    "folder_path = '/home/fibonacci/Documents/image_classification/'\n",
    "files = os.listdir(folder_path)\n",
    "\n",
    "file_paths = []\n",
    "\n",
    "for file in files:\n",
    "    file_path = os.path.join(folder_path, file)\n",
    "    file_paths.append(file_path)\n",
    "\n",
    "for file_path in file_paths:\n",
    "    images = os.listdir(file_path)\n",
    "    image = Image.open(os.path.join(file_path, images[250]))\n",
    "    print(\"Class {} contains {} images of shape{}\".format(file_path,len(images),image.size))\n",
    "    "
   ]
  },
  {
   "cell_type": "code",
   "execution_count": null,
   "id": "0886ec51",
   "metadata": {},
   "outputs": [],
   "source": []
  }
 ],
 "metadata": {
  "kernelspec": {
   "display_name": "Python 3 (ipykernel)",
   "language": "python",
   "name": "python3"
  },
  "language_info": {
   "codemirror_mode": {
    "name": "ipython",
    "version": 3
   },
   "file_extension": ".py",
   "mimetype": "text/x-python",
   "name": "python",
   "nbconvert_exporter": "python",
   "pygments_lexer": "ipython3",
   "version": "3.10.9"
  }
 },
 "nbformat": 4,
 "nbformat_minor": 5
}
